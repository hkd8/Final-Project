{
 "cells": [
  {
   "cell_type": "code",
   "execution_count": 4,
   "metadata": {},
   "outputs": [],
   "source": [
    "from sklearn import tree\n",
    "import pandas as pd\n",
    "import os"
   ]
  },
  {
   "cell_type": "code",
   "execution_count": 6,
   "metadata": {
    "scrolled": true
   },
   "outputs": [
    {
     "data": {
      "text/html": [
       "<div>\n",
       "<style scoped>\n",
       "    .dataframe tbody tr th:only-of-type {\n",
       "        vertical-align: middle;\n",
       "    }\n",
       "\n",
       "    .dataframe tbody tr th {\n",
       "        vertical-align: top;\n",
       "    }\n",
       "\n",
       "    .dataframe thead th {\n",
       "        text-align: right;\n",
       "    }\n",
       "</style>\n",
       "<table border=\"1\" class=\"dataframe\">\n",
       "  <thead>\n",
       "    <tr style=\"text-align: right;\">\n",
       "      <th></th>\n",
       "      <th>Year</th>\n",
       "      <th>GCAG</th>\n",
       "      <th>GISTEMP</th>\n",
       "      <th>Average Land Temperature (Degrees Celcius)</th>\n",
       "      <th>c-C4F8</th>\n",
       "      <th>C2F6</th>\n",
       "      <th>C3F8</th>\n",
       "      <th>C4F10</th>\n",
       "      <th>C5F12</th>\n",
       "      <th>C6F14</th>\n",
       "      <th>...</th>\n",
       "      <th>HFC245fa</th>\n",
       "      <th>HFC365mfc</th>\n",
       "      <th>HFC4310mee</th>\n",
       "      <th>CH4</th>\n",
       "      <th>CH3Br</th>\n",
       "      <th>CH3Cl</th>\n",
       "      <th>NF3</th>\n",
       "      <th>N20</th>\n",
       "      <th>SF6</th>\n",
       "      <th>SO2F2</th>\n",
       "    </tr>\n",
       "  </thead>\n",
       "  <tbody>\n",
       "    <tr>\n",
       "      <th>0</th>\n",
       "      <td>1880</td>\n",
       "      <td>-0.1148</td>\n",
       "      <td>-0.20</td>\n",
       "      <td>8.118750</td>\n",
       "      <td>0.0</td>\n",
       "      <td>0.000349</td>\n",
       "      <td>0.0</td>\n",
       "      <td>0.0</td>\n",
       "      <td>0.0</td>\n",
       "      <td>0.0</td>\n",
       "      <td>...</td>\n",
       "      <td>0.0</td>\n",
       "      <td>0.0</td>\n",
       "      <td>0.0</td>\n",
       "      <td>868.696106</td>\n",
       "      <td>5.299998</td>\n",
       "      <td>457.0</td>\n",
       "      <td>0.0</td>\n",
       "      <td>277.265047</td>\n",
       "      <td>0.0</td>\n",
       "      <td>0.000028</td>\n",
       "    </tr>\n",
       "    <tr>\n",
       "      <th>1</th>\n",
       "      <td>1881</td>\n",
       "      <td>-0.0628</td>\n",
       "      <td>-0.12</td>\n",
       "      <td>8.270917</td>\n",
       "      <td>0.0</td>\n",
       "      <td>0.000363</td>\n",
       "      <td>0.0</td>\n",
       "      <td>0.0</td>\n",
       "      <td>0.0</td>\n",
       "      <td>0.0</td>\n",
       "      <td>...</td>\n",
       "      <td>0.0</td>\n",
       "      <td>0.0</td>\n",
       "      <td>0.0</td>\n",
       "      <td>870.984127</td>\n",
       "      <td>5.299998</td>\n",
       "      <td>457.0</td>\n",
       "      <td>0.0</td>\n",
       "      <td>277.374049</td>\n",
       "      <td>0.0</td>\n",
       "      <td>0.000029</td>\n",
       "    </tr>\n",
       "    <tr>\n",
       "      <th>2</th>\n",
       "      <td>1882</td>\n",
       "      <td>-0.0648</td>\n",
       "      <td>-0.10</td>\n",
       "      <td>8.128917</td>\n",
       "      <td>0.0</td>\n",
       "      <td>0.000377</td>\n",
       "      <td>0.0</td>\n",
       "      <td>0.0</td>\n",
       "      <td>0.0</td>\n",
       "      <td>0.0</td>\n",
       "      <td>...</td>\n",
       "      <td>0.0</td>\n",
       "      <td>0.0</td>\n",
       "      <td>0.0</td>\n",
       "      <td>873.250134</td>\n",
       "      <td>5.299998</td>\n",
       "      <td>457.0</td>\n",
       "      <td>0.0</td>\n",
       "      <td>277.486048</td>\n",
       "      <td>0.0</td>\n",
       "      <td>0.000029</td>\n",
       "    </tr>\n",
       "    <tr>\n",
       "      <th>3</th>\n",
       "      <td>1883</td>\n",
       "      <td>-0.1424</td>\n",
       "      <td>-0.21</td>\n",
       "      <td>7.976917</td>\n",
       "      <td>0.0</td>\n",
       "      <td>0.000392</td>\n",
       "      <td>0.0</td>\n",
       "      <td>0.0</td>\n",
       "      <td>0.0</td>\n",
       "      <td>0.0</td>\n",
       "      <td>...</td>\n",
       "      <td>0.0</td>\n",
       "      <td>0.0</td>\n",
       "      <td>0.0</td>\n",
       "      <td>875.603151</td>\n",
       "      <td>5.299998</td>\n",
       "      <td>457.0</td>\n",
       "      <td>0.0</td>\n",
       "      <td>277.591048</td>\n",
       "      <td>0.0</td>\n",
       "      <td>0.000029</td>\n",
       "    </tr>\n",
       "    <tr>\n",
       "      <th>4</th>\n",
       "      <td>1884</td>\n",
       "      <td>-0.2009</td>\n",
       "      <td>-0.28</td>\n",
       "      <td>7.773667</td>\n",
       "      <td>0.0</td>\n",
       "      <td>0.000407</td>\n",
       "      <td>0.0</td>\n",
       "      <td>0.0</td>\n",
       "      <td>0.0</td>\n",
       "      <td>0.0</td>\n",
       "      <td>...</td>\n",
       "      <td>0.0</td>\n",
       "      <td>0.0</td>\n",
       "      <td>0.0</td>\n",
       "      <td>878.148195</td>\n",
       "      <td>5.299998</td>\n",
       "      <td>457.0</td>\n",
       "      <td>0.0</td>\n",
       "      <td>277.695048</td>\n",
       "      <td>0.0</td>\n",
       "      <td>0.000029</td>\n",
       "    </tr>\n",
       "  </tbody>\n",
       "</table>\n",
       "<p>5 rows × 46 columns</p>\n",
       "</div>"
      ],
      "text/plain": [
       "   Year    GCAG  GISTEMP  Average Land Temperature (Degrees Celcius)  c-C4F8  \\\n",
       "0  1880 -0.1148    -0.20                                    8.118750     0.0   \n",
       "1  1881 -0.0628    -0.12                                    8.270917     0.0   \n",
       "2  1882 -0.0648    -0.10                                    8.128917     0.0   \n",
       "3  1883 -0.1424    -0.21                                    7.976917     0.0   \n",
       "4  1884 -0.2009    -0.28                                    7.773667     0.0   \n",
       "\n",
       "       C2F6  C3F8  C4F10  C5F12  C6F14    ...     HFC245fa  HFC365mfc  \\\n",
       "0  0.000349   0.0    0.0    0.0    0.0    ...          0.0        0.0   \n",
       "1  0.000363   0.0    0.0    0.0    0.0    ...          0.0        0.0   \n",
       "2  0.000377   0.0    0.0    0.0    0.0    ...          0.0        0.0   \n",
       "3  0.000392   0.0    0.0    0.0    0.0    ...          0.0        0.0   \n",
       "4  0.000407   0.0    0.0    0.0    0.0    ...          0.0        0.0   \n",
       "\n",
       "   HFC4310mee         CH4     CH3Br  CH3Cl  NF3         N20  SF6     SO2F2  \n",
       "0         0.0  868.696106  5.299998  457.0  0.0  277.265047  0.0  0.000028  \n",
       "1         0.0  870.984127  5.299998  457.0  0.0  277.374049  0.0  0.000029  \n",
       "2         0.0  873.250134  5.299998  457.0  0.0  277.486048  0.0  0.000029  \n",
       "3         0.0  875.603151  5.299998  457.0  0.0  277.591048  0.0  0.000029  \n",
       "4         0.0  878.148195  5.299998  457.0  0.0  277.695048  0.0  0.000029  \n",
       "\n",
       "[5 rows x 46 columns]"
      ]
     },
     "execution_count": 6,
     "metadata": {},
     "output_type": "execute_result"
    }
   ],
   "source": [
    "df = pd.read_csv(os.path.join(\"Resources\",\"temperature_and_ghg_concentrations_1880-2014_excluding_outliers.csv\"))\n",
    "df.head()"
   ]
  },
  {
   "cell_type": "code",
   "execution_count": 7,
   "metadata": {},
   "outputs": [],
   "source": [
    "target = df[\"GCAG\"]"
   ]
  },
  {
   "cell_type": "code",
   "execution_count": 8,
   "metadata": {},
   "outputs": [
    {
     "data": {
      "text/html": [
       "<div>\n",
       "<style scoped>\n",
       "    .dataframe tbody tr th:only-of-type {\n",
       "        vertical-align: middle;\n",
       "    }\n",
       "\n",
       "    .dataframe tbody tr th {\n",
       "        vertical-align: top;\n",
       "    }\n",
       "\n",
       "    .dataframe thead th {\n",
       "        text-align: right;\n",
       "    }\n",
       "</style>\n",
       "<table border=\"1\" class=\"dataframe\">\n",
       "  <thead>\n",
       "    <tr style=\"text-align: right;\">\n",
       "      <th></th>\n",
       "      <th>c-C4F8</th>\n",
       "      <th>C2F6</th>\n",
       "      <th>C3F8</th>\n",
       "      <th>C4F10</th>\n",
       "      <th>C5F12</th>\n",
       "      <th>C6F14</th>\n",
       "      <th>C7F16</th>\n",
       "      <th>C8F18</th>\n",
       "      <th>CO2</th>\n",
       "      <th>CCl4</th>\n",
       "      <th>...</th>\n",
       "      <th>HFC245fa</th>\n",
       "      <th>HFC365mfc</th>\n",
       "      <th>HFC4310mee</th>\n",
       "      <th>CH4</th>\n",
       "      <th>CH3Br</th>\n",
       "      <th>CH3Cl</th>\n",
       "      <th>NF3</th>\n",
       "      <th>N20</th>\n",
       "      <th>SF6</th>\n",
       "      <th>SO2F2</th>\n",
       "    </tr>\n",
       "  </thead>\n",
       "  <tbody>\n",
       "    <tr>\n",
       "      <th>0</th>\n",
       "      <td>0.0</td>\n",
       "      <td>0.000349</td>\n",
       "      <td>0.0</td>\n",
       "      <td>0.0</td>\n",
       "      <td>0.0</td>\n",
       "      <td>0.0</td>\n",
       "      <td>0.0</td>\n",
       "      <td>0.0</td>\n",
       "      <td>289.469999</td>\n",
       "      <td>0.025</td>\n",
       "      <td>...</td>\n",
       "      <td>0.0</td>\n",
       "      <td>0.0</td>\n",
       "      <td>0.0</td>\n",
       "      <td>868.696106</td>\n",
       "      <td>5.299998</td>\n",
       "      <td>457.0</td>\n",
       "      <td>0.0</td>\n",
       "      <td>277.265047</td>\n",
       "      <td>0.0</td>\n",
       "      <td>0.000028</td>\n",
       "    </tr>\n",
       "    <tr>\n",
       "      <th>1</th>\n",
       "      <td>0.0</td>\n",
       "      <td>0.000363</td>\n",
       "      <td>0.0</td>\n",
       "      <td>0.0</td>\n",
       "      <td>0.0</td>\n",
       "      <td>0.0</td>\n",
       "      <td>0.0</td>\n",
       "      <td>0.0</td>\n",
       "      <td>289.736999</td>\n",
       "      <td>0.025</td>\n",
       "      <td>...</td>\n",
       "      <td>0.0</td>\n",
       "      <td>0.0</td>\n",
       "      <td>0.0</td>\n",
       "      <td>870.984127</td>\n",
       "      <td>5.299998</td>\n",
       "      <td>457.0</td>\n",
       "      <td>0.0</td>\n",
       "      <td>277.374049</td>\n",
       "      <td>0.0</td>\n",
       "      <td>0.000029</td>\n",
       "    </tr>\n",
       "    <tr>\n",
       "      <th>2</th>\n",
       "      <td>0.0</td>\n",
       "      <td>0.000377</td>\n",
       "      <td>0.0</td>\n",
       "      <td>0.0</td>\n",
       "      <td>0.0</td>\n",
       "      <td>0.0</td>\n",
       "      <td>0.0</td>\n",
       "      <td>0.0</td>\n",
       "      <td>290.018999</td>\n",
       "      <td>0.025</td>\n",
       "      <td>...</td>\n",
       "      <td>0.0</td>\n",
       "      <td>0.0</td>\n",
       "      <td>0.0</td>\n",
       "      <td>873.250134</td>\n",
       "      <td>5.299998</td>\n",
       "      <td>457.0</td>\n",
       "      <td>0.0</td>\n",
       "      <td>277.486048</td>\n",
       "      <td>0.0</td>\n",
       "      <td>0.000029</td>\n",
       "    </tr>\n",
       "    <tr>\n",
       "      <th>3</th>\n",
       "      <td>0.0</td>\n",
       "      <td>0.000392</td>\n",
       "      <td>0.0</td>\n",
       "      <td>0.0</td>\n",
       "      <td>0.0</td>\n",
       "      <td>0.0</td>\n",
       "      <td>0.0</td>\n",
       "      <td>0.0</td>\n",
       "      <td>290.262999</td>\n",
       "      <td>0.025</td>\n",
       "      <td>...</td>\n",
       "      <td>0.0</td>\n",
       "      <td>0.0</td>\n",
       "      <td>0.0</td>\n",
       "      <td>875.603151</td>\n",
       "      <td>5.299998</td>\n",
       "      <td>457.0</td>\n",
       "      <td>0.0</td>\n",
       "      <td>277.591048</td>\n",
       "      <td>0.0</td>\n",
       "      <td>0.000029</td>\n",
       "    </tr>\n",
       "    <tr>\n",
       "      <th>4</th>\n",
       "      <td>0.0</td>\n",
       "      <td>0.000407</td>\n",
       "      <td>0.0</td>\n",
       "      <td>0.0</td>\n",
       "      <td>0.0</td>\n",
       "      <td>0.0</td>\n",
       "      <td>0.0</td>\n",
       "      <td>0.0</td>\n",
       "      <td>290.511999</td>\n",
       "      <td>0.025</td>\n",
       "      <td>...</td>\n",
       "      <td>0.0</td>\n",
       "      <td>0.0</td>\n",
       "      <td>0.0</td>\n",
       "      <td>878.148195</td>\n",
       "      <td>5.299998</td>\n",
       "      <td>457.0</td>\n",
       "      <td>0.0</td>\n",
       "      <td>277.695048</td>\n",
       "      <td>0.0</td>\n",
       "      <td>0.000029</td>\n",
       "    </tr>\n",
       "  </tbody>\n",
       "</table>\n",
       "<p>5 rows × 42 columns</p>\n",
       "</div>"
      ],
      "text/plain": [
       "   c-C4F8      C2F6  C3F8  C4F10  C5F12  C6F14  C7F16  C8F18         CO2  \\\n",
       "0     0.0  0.000349   0.0    0.0    0.0    0.0    0.0    0.0  289.469999   \n",
       "1     0.0  0.000363   0.0    0.0    0.0    0.0    0.0    0.0  289.736999   \n",
       "2     0.0  0.000377   0.0    0.0    0.0    0.0    0.0    0.0  290.018999   \n",
       "3     0.0  0.000392   0.0    0.0    0.0    0.0    0.0    0.0  290.262999   \n",
       "4     0.0  0.000407   0.0    0.0    0.0    0.0    0.0    0.0  290.511999   \n",
       "\n",
       "    CCl4    ...     HFC245fa  HFC365mfc  HFC4310mee         CH4     CH3Br  \\\n",
       "0  0.025    ...          0.0        0.0         0.0  868.696106  5.299998   \n",
       "1  0.025    ...          0.0        0.0         0.0  870.984127  5.299998   \n",
       "2  0.025    ...          0.0        0.0         0.0  873.250134  5.299998   \n",
       "3  0.025    ...          0.0        0.0         0.0  875.603151  5.299998   \n",
       "4  0.025    ...          0.0        0.0         0.0  878.148195  5.299998   \n",
       "\n",
       "   CH3Cl  NF3         N20  SF6     SO2F2  \n",
       "0  457.0  0.0  277.265047  0.0  0.000028  \n",
       "1  457.0  0.0  277.374049  0.0  0.000029  \n",
       "2  457.0  0.0  277.486048  0.0  0.000029  \n",
       "3  457.0  0.0  277.591048  0.0  0.000029  \n",
       "4  457.0  0.0  277.695048  0.0  0.000029  \n",
       "\n",
       "[5 rows x 42 columns]"
      ]
     },
     "execution_count": 8,
     "metadata": {},
     "output_type": "execute_result"
    }
   ],
   "source": [
    "clean_data = df.drop([\"Average Land Temperature (Degrees Celcius)\", \"GISTEMP\", \"GCAG\", \"Year\"], axis=1)\n",
    "feature_names = clean_data.columns\n",
    "clean_data.head()"
   ]
  },
  {
   "cell_type": "code",
   "execution_count": 9,
   "metadata": {},
   "outputs": [],
   "source": [
    "# Convert to numpy arrays\n",
    "import numpy as np\n",
    "\n",
    "features = np.array(clean_data)\n",
    "target_final = np.array(target)\n",
    "\n",
    "# Training and Testing Sets\n",
    "from sklearn.model_selection import train_test_split\n",
    "\n",
    "X_train, X_test, y_train, y_test = train_test_split(features, target_final, random_state = 42)"
   ]
  },
  {
   "cell_type": "code",
   "execution_count": 10,
   "metadata": {},
   "outputs": [
    {
     "data": {
      "text/plain": [
       "0.8144340107762558"
      ]
     },
     "execution_count": 10,
     "metadata": {},
     "output_type": "execute_result"
    }
   ],
   "source": [
    "clf = tree.DecisionTreeRegressor()\n",
    "clf = clf.fit(X_train, y_train)\n",
    "clf.score(X_test, y_test)"
   ]
  },
  {
   "cell_type": "code",
   "execution_count": 11,
   "metadata": {},
   "outputs": [
    {
     "data": {
      "text/plain": [
       "0.8897488969528657"
      ]
     },
     "execution_count": 11,
     "metadata": {},
     "output_type": "execute_result"
    }
   ],
   "source": [
    "from sklearn.ensemble import RandomForestRegressor\n",
    "rf = RandomForestRegressor(n_estimators=5000)\n",
    "rf = rf.fit(X_train, y_train)\n",
    "rf.score(X_test, y_test)"
   ]
  },
  {
   "cell_type": "code",
   "execution_count": 12,
   "metadata": {},
   "outputs": [],
   "source": [
    "results = sorted(zip(rf.feature_importances_, feature_names), reverse=True)"
   ]
  },
  {
   "cell_type": "code",
   "execution_count": 13,
   "metadata": {},
   "outputs": [],
   "source": [
    "new_df = pd.DataFrame(results)"
   ]
  },
  {
   "cell_type": "code",
   "execution_count": 14,
   "metadata": {},
   "outputs": [],
   "source": [
    "new_df.to_csv('resultsGCAG_excluding_outliers.csv', index=False) "
   ]
  },
  {
   "cell_type": "code",
   "execution_count": 15,
   "metadata": {},
   "outputs": [
    {
     "data": {
      "text/plain": [
       "[(0.07645909728048247, 'HFC23'),\n",
       " (0.05403611954101968, 'HFC236fa'),\n",
       " (0.04374778939949115, 'CH2Cl2'),\n",
       " (0.04267783666609314, 'HCFC22'),\n",
       " (0.04072509362215295, 'CO2'),\n",
       " (0.037816364491821096, 'CF4'),\n",
       " (0.03668453012709364, 'N20'),\n",
       " (0.03637365172212002, 'HFC32'),\n",
       " (0.03613658384594316, 'SO2F2'),\n",
       " (0.03347832074080164, 'CH4'),\n",
       " (0.033163042934130735, 'C2F6'),\n",
       " (0.032733257099322705, 'C3F8'),\n",
       " (0.03216748765760225, 'HFC227ea'),\n",
       " (0.03194870362565666, 'CFC113'),\n",
       " (0.03082298606212566, 'Halon2402'),\n",
       " (0.026274218932399424, 'CFC114'),\n",
       " (0.026011759172342965, 'CFC115'),\n",
       " (0.024882411642090794, 'NF3'),\n",
       " (0.02155022661988611, 'CCl4'),\n",
       " (0.021424145097577316, 'CHCl3'),\n",
       " (0.020163478214562054, 'CFC11'),\n",
       " (0.019836488446400808, 'HFC152a'),\n",
       " (0.019352562908030144, 'CH3Br'),\n",
       " (0.01875014662482264, 'HCFC142b'),\n",
       " (0.018561222573678867, 'c-C4F8'),\n",
       " (0.017808390569320643, 'HFC143a'),\n",
       " (0.017360331410202108, 'CFC12'),\n",
       " (0.01705213889481135, 'C7F16'),\n",
       " (0.016822468979282128, 'C6F14'),\n",
       " (0.016666924312233457, 'SF6'),\n",
       " (0.016407360531321323, 'C4F10'),\n",
       " (0.015900878292688766, 'C5F12'),\n",
       " (0.015699100963175498, 'Halon1301'),\n",
       " (0.01380672244516293, 'HFC365mfc'),\n",
       " (0.013805696118657045, 'C8F18'),\n",
       " (0.006576045589760649, 'CH3CCl3'),\n",
       " (0.00613183510044331, 'CH3Cl'),\n",
       " (0.003154944969092179, 'HFC125'),\n",
       " (0.002941160639825155, 'HFC4310mee'),\n",
       " (0.0017543359306872685, 'HFC134a'),\n",
       " (0.0013185860693483464, 'HCFC141b'),\n",
       " (0.0010155541363396328, 'HFC245fa')]"
      ]
     },
     "execution_count": 15,
     "metadata": {},
     "output_type": "execute_result"
    }
   ],
   "source": [
    "results"
   ]
  },
  {
   "cell_type": "code",
   "execution_count": 18,
   "metadata": {},
   "outputs": [],
   "source": [
    "df2 = pd.read_csv(\"Trended_MoleculeConcentration_excludingoutliers.csv\")\n",
    "df2 = df2.set_index(\"Unnamed: 0\")"
   ]
  },
  {
   "cell_type": "code",
   "execution_count": 19,
   "metadata": {},
   "outputs": [],
   "source": [
    "x1950_1970 = df2.iloc[0].values.reshape(1, -1)\n",
    "x1970_1988 = df2.iloc[1].values.reshape(1, -1)\n",
    "x1988_2014 = df2.iloc[2].values.reshape(1, -1)\n",
    "x2009_2014 = df2.iloc[3].values.reshape(1, -1)"
   ]
  },
  {
   "cell_type": "code",
   "execution_count": 20,
   "metadata": {},
   "outputs": [
    {
     "data": {
      "text/plain": [
       "array([0.18394795])"
      ]
     },
     "execution_count": 20,
     "metadata": {},
     "output_type": "execute_result"
    }
   ],
   "source": [
    " rf.predict(x1950_1970)"
   ]
  },
  {
   "cell_type": "code",
   "execution_count": 21,
   "metadata": {},
   "outputs": [
    {
     "data": {
      "text/plain": [
       "array([0.46712567])"
      ]
     },
     "execution_count": 21,
     "metadata": {},
     "output_type": "execute_result"
    }
   ],
   "source": [
    "rf.predict(x1970_1988)"
   ]
  },
  {
   "cell_type": "code",
   "execution_count": 22,
   "metadata": {},
   "outputs": [
    {
     "data": {
      "text/plain": [
       "array([0.69029397])"
      ]
     },
     "execution_count": 22,
     "metadata": {},
     "output_type": "execute_result"
    }
   ],
   "source": [
    "rf.predict(x1988_2014)"
   ]
  },
  {
   "cell_type": "code",
   "execution_count": 23,
   "metadata": {},
   "outputs": [
    {
     "data": {
      "text/plain": [
       "array([0.65722144])"
      ]
     },
     "execution_count": 23,
     "metadata": {},
     "output_type": "execute_result"
    }
   ],
   "source": [
    "rf.predict(x2009_2014)"
   ]
  },
  {
   "cell_type": "code",
   "execution_count": null,
   "metadata": {},
   "outputs": [],
   "source": []
  }
 ],
 "metadata": {
  "kernelspec": {
   "display_name": "Python 3",
   "language": "python",
   "name": "python3"
  },
  "language_info": {
   "codemirror_mode": {
    "name": "ipython",
    "version": 3
   },
   "file_extension": ".py",
   "mimetype": "text/x-python",
   "name": "python",
   "nbconvert_exporter": "python",
   "pygments_lexer": "ipython3",
   "version": "3.7.1"
  }
 },
 "nbformat": 4,
 "nbformat_minor": 2
}
