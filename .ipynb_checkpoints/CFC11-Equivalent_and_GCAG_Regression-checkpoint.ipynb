{
 "cells": [
  {
   "cell_type": "markdown",
   "metadata": {},
   "source": [
    "The CFC11 Equivalent is a standardized measure Ozone Depleting Substances. In this dataset we are looking at the current concentrations in the atmosphere of CFC. \n",
    "For more background please visit: https://ourworldindata.org/ozone-layer\n",
    "Data used is retrieved from the ftp of ETHzurich, Department of Environmental Systems Science, Institute for Atmospheric and Climate Science https://iac.ethz.ch/, ftp://data.iac.ethz.ch/"
   ]
  },
  {
   "cell_type": "code",
   "execution_count": 1,
   "metadata": {},
   "outputs": [],
   "source": [
    "import matplotlib.pyplot as plt\n",
    "import numpy as np\n",
    "import pandas as pd\n",
    "import os\n",
    "from sklearn import linear_model\n",
    "from sklearn.metrics import mean_squared_error, r2_score"
   ]
  },
  {
   "cell_type": "code",
   "execution_count": 2,
   "metadata": {},
   "outputs": [
    {
     "data": {
      "text/html": [
       "<div>\n",
       "<style scoped>\n",
       "    .dataframe tbody tr th:only-of-type {\n",
       "        vertical-align: middle;\n",
       "    }\n",
       "\n",
       "    .dataframe tbody tr th {\n",
       "        vertical-align: top;\n",
       "    }\n",
       "\n",
       "    .dataframe thead th {\n",
       "        text-align: right;\n",
       "    }\n",
       "</style>\n",
       "<table border=\"1\" class=\"dataframe\">\n",
       "  <thead>\n",
       "    <tr style=\"text-align: right;\">\n",
       "      <th></th>\n",
       "      <th>Year</th>\n",
       "      <th>GCAG</th>\n",
       "      <th>GISTEMP</th>\n",
       "      <th>Average Land Temperature (Degrees Celcius)</th>\n",
       "      <th>CFC11_Equivalent</th>\n",
       "    </tr>\n",
       "  </thead>\n",
       "  <tbody>\n",
       "    <tr>\n",
       "      <th>130</th>\n",
       "      <td>2010</td>\n",
       "      <td>0.7014</td>\n",
       "      <td>0.71</td>\n",
       "      <td>9.703083</td>\n",
       "      <td>768.764382</td>\n",
       "    </tr>\n",
       "    <tr>\n",
       "      <th>131</th>\n",
       "      <td>2011</td>\n",
       "      <td>0.5788</td>\n",
       "      <td>0.60</td>\n",
       "      <td>9.516000</td>\n",
       "      <td>779.124172</td>\n",
       "    </tr>\n",
       "    <tr>\n",
       "      <th>132</th>\n",
       "      <td>2012</td>\n",
       "      <td>0.6240</td>\n",
       "      <td>0.63</td>\n",
       "      <td>9.507333</td>\n",
       "      <td>787.766429</td>\n",
       "    </tr>\n",
       "    <tr>\n",
       "      <th>133</th>\n",
       "      <td>2013</td>\n",
       "      <td>0.6679</td>\n",
       "      <td>0.65</td>\n",
       "      <td>9.606500</td>\n",
       "      <td>801.302879</td>\n",
       "    </tr>\n",
       "    <tr>\n",
       "      <th>134</th>\n",
       "      <td>2014</td>\n",
       "      <td>0.7408</td>\n",
       "      <td>0.74</td>\n",
       "      <td>9.570667</td>\n",
       "      <td>809.186477</td>\n",
       "    </tr>\n",
       "  </tbody>\n",
       "</table>\n",
       "</div>"
      ],
      "text/plain": [
       "     Year    GCAG  GISTEMP  Average Land Temperature (Degrees Celcius)  \\\n",
       "130  2010  0.7014     0.71                                    9.703083   \n",
       "131  2011  0.5788     0.60                                    9.516000   \n",
       "132  2012  0.6240     0.63                                    9.507333   \n",
       "133  2013  0.6679     0.65                                    9.606500   \n",
       "134  2014  0.7408     0.74                                    9.570667   \n",
       "\n",
       "     CFC11_Equivalent  \n",
       "130        768.764382  \n",
       "131        779.124172  \n",
       "132        787.766429  \n",
       "133        801.302879  \n",
       "134        809.186477  "
      ]
     },
     "execution_count": 2,
     "metadata": {},
     "output_type": "execute_result"
    }
   ],
   "source": [
    "df = pd.read_csv(os.path.join(\"Resources\",\"cfc11_equivalent_1880-2014.csv\"))\n",
    "df.tail()"
   ]
  },
  {
   "cell_type": "code",
   "execution_count": 107,
   "metadata": {},
   "outputs": [],
   "source": [
    "#define data and targets, x and y\n",
    "x = df[\"CFC11_Equivalent\"]\n",
    "y = df[\"GCAG\"]"
   ]
  },
  {
   "cell_type": "code",
   "execution_count": 108,
   "metadata": {},
   "outputs": [],
   "source": [
    "#Split the data into training/testing sets\n",
    "X_train = x[:-20]\n",
    "X_test = x[-20:]"
   ]
  },
  {
   "cell_type": "code",
   "execution_count": 109,
   "metadata": {},
   "outputs": [],
   "source": [
    "#Split the targets into training/testing sets\n",
    "y_train = y[:-20]\n",
    "y_test = y[-20:]"
   ]
  },
  {
   "cell_type": "code",
   "execution_count": 110,
   "metadata": {},
   "outputs": [],
   "source": [
    "#Reshape data\n",
    "X_train = X_train.values.reshape(-1,1)\n",
    "y_train = y_train.values.reshape(-1,1)\n",
    "X_test = X_test.values.reshape(-1,1)\n",
    "y_test = y_test.values.reshape(-1,1)"
   ]
  },
  {
   "cell_type": "code",
   "execution_count": 111,
   "metadata": {},
   "outputs": [],
   "source": [
    "#Create linear regression object\n",
    "regr = linear_model.LinearRegression()"
   ]
  },
  {
   "cell_type": "code",
   "execution_count": 112,
   "metadata": {},
   "outputs": [
    {
     "data": {
      "text/plain": [
       "LinearRegression(copy_X=True, fit_intercept=True, n_jobs=None,\n",
       "         normalize=False)"
      ]
     },
     "execution_count": 112,
     "metadata": {},
     "output_type": "execute_result"
    }
   ],
   "source": [
    "regr.fit(X_train, y_train)"
   ]
  },
  {
   "cell_type": "code",
   "execution_count": 113,
   "metadata": {},
   "outputs": [],
   "source": [
    "prediction_y = regr.predict(X_test)"
   ]
  },
  {
   "cell_type": "code",
   "execution_count": 114,
   "metadata": {},
   "outputs": [
    {
     "name": "stdout",
     "output_type": "stream",
     "text": [
      "Coefficients: \n",
      " [[0.00088887]]\n"
     ]
    }
   ],
   "source": [
    "print('Coefficients: \\n', regr.coef_)"
   ]
  },
  {
   "cell_type": "code",
   "execution_count": 115,
   "metadata": {},
   "outputs": [
    {
     "name": "stdout",
     "output_type": "stream",
     "text": [
      "Mean squared error: 0.02\n"
     ]
    }
   ],
   "source": [
    "print('Mean squared error: %.2f' % mean_squared_error(y_test, prediction_y))"
   ]
  },
  {
   "cell_type": "code",
   "execution_count": 116,
   "metadata": {},
   "outputs": [
    {
     "name": "stdout",
     "output_type": "stream",
     "text": [
      "Variance score: -0.72\n"
     ]
    }
   ],
   "source": [
    "print('Variance score: %.2f' % r2_score(y_test, prediction_y))"
   ]
  },
  {
   "cell_type": "code",
   "execution_count": 117,
   "metadata": {},
   "outputs": [
    {
     "data": {
      "image/png": "[encoded data removed]",
      "text/plain": [
       "<Figure size 432x288 with 1 Axes>"
      ]
     },
     "metadata": {
      "needs_background": "light"
     },
     "output_type": "display_data"
    }
   ],
   "source": [
    "#This shows the datapoints tested and our regression prediction\n",
    "plt.scatter(X_test, y_test, color='black')\n",
    "plt.plot(X_test, prediction_y, color = 'blue', linewidth=3)\n",
    "plt.show()"
   ]
  },
  {
   "cell_type": "code",
   "execution_count": 118,
   "metadata": {},
   "outputs": [
    {
     "data": {
      "image/png": "[encoded data removed]",
      "text/plain": [
       "<Figure size 432x288 with 1 Axes>"
      ]
     },
     "metadata": {
      "needs_background": "light"
     },
     "output_type": "display_data"
    }
   ],
   "source": [
    "#Visualizing the whole dataset and prediction (X axis = Mol Concentration of CFC11-Equivalent, y axis = GCAG)\n",
    "plt.scatter(x,y, color='black')\n",
    "plt.plot(X_test, prediction_y, color = 'blue', linewidth=3)\n",
    "plt.show()"
   ]
  },
  {
   "cell_type": "code",
   "execution_count": 119,
   "metadata": {},
   "outputs": [
    {
     "data": {
      "image/png": "[encoded data removed]",
      "text/plain": [
       "<Figure size 432x288 with 1 Axes>"
      ]
     },
     "metadata": {
      "needs_background": "light"
     },
     "output_type": "display_data"
    }
   ],
   "source": [
    "#Visualization of the Mol Concentration of CFC11-Equivalent from 1880 to 2014 (X axis = Year, y axis = Mol Concentration of CFC11-Equivalent)\n",
    "plt.scatter(df[\"Year\"], x)\n",
    "plt.show()"
   ]
  },
  {
   "cell_type": "markdown",
   "metadata": {},
   "source": [
    "Conclusion: The Montreal Protocol drafted in 1987 made affected the rate of growth of Ozone Depleting Substances in our atmosphere, but an inflection occurred in the early 2000s and Ozone Depleting Substances are once again rising at a severe rate. The main contributor is China, according to United Nations Environment Programme.\n",
    "\n",
    "Hannah Ritchie and Max Roser (2019) - \"Ozone Layer\". Published online at OurWorldInData.org. Retrieved from: 'https://ourworldindata.org/ozone-layer' [Online Resource]"
   ]
  }
 ],
 "metadata": {
  "kernelspec": {
   "display_name": "Python 3",
   "language": "python",
   "name": "python3"
  }
 },
 "nbformat": 4,
 "nbformat_minor": 2
}
